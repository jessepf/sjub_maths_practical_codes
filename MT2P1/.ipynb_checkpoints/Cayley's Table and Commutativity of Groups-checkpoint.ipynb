{
 "cells": [
  {
   "cell_type": "markdown",
   "id": "84cf9235",
   "metadata": {},
   "source": [
    "## Cayley's Table and Commutativity of Given Operation"
   ]
  },
  {
   "cell_type": "code",
   "execution_count": 1,
   "id": "eebf6a53",
   "metadata": {},
   "outputs": [],
   "source": [
    "def cayley(G,n,op):\n",
    "    print(\"The Cayley's table for the group G =\",G,\"is\")\n",
    "    for i in G:\n",
    "        for j in G:\n",
    "            if op=='+':\n",
    "                print((i+j)%n,end=\"\\t\")\n",
    "        else:\n",
    "            print((i*j)%n,end=\"\\t\")\n",
    "            print(\"\\n\")\n",
    "def commutative(G,n,op):\n",
    "    for i in G:\n",
    "        for j in G:\n",
    "            if op=='+':\n",
    "                if (i+j)%n != (j+i)%n :\n",
    "                    print(\"The given operation is not commutative on the set\",G)\n",
    "                    return\n",
    "                else:\n",
    "                    if (i*j)%n != (j*i)%n :\n",
    "                        print(\"The given operation is not commutative on the set\",G)\n",
    "                        return\n",
    "    print(\"The given operation is commutative on the set\",G)"
   ]
  },
  {
   "cell_type": "code",
   "execution_count": 2,
   "id": "225e5f89",
   "metadata": {},
   "outputs": [
    {
     "name": "stdout",
     "output_type": "stream",
     "text": [
      "The Cayley's table for the group G = [0, 1, 2, 3, 4, 5] is\n",
      "0\t1\t2\t3\t4\t5\t0\t\n",
      "\n",
      "1\t2\t3\t4\t5\t0\t5\t\n",
      "\n",
      "2\t3\t4\t5\t0\t1\t4\t\n",
      "\n",
      "3\t4\t5\t0\t1\t2\t3\t\n",
      "\n",
      "4\t5\t0\t1\t2\t3\t2\t\n",
      "\n",
      "5\t0\t1\t2\t3\t4\t1\t\n",
      "\n",
      "The given operation is commutative on the set [0, 1, 2, 3, 4, 5]\n"
     ]
    }
   ],
   "source": [
    "cayley([0,1,2,3,4,5],6,'+')\n",
    "commutative([0,1,2,3,4,5],6,'+')"
   ]
  },
  {
   "cell_type": "markdown",
   "id": "9bef8420",
   "metadata": {},
   "source": [
    "### Alternative Program"
   ]
  },
  {
   "cell_type": "code",
   "execution_count": 1,
   "id": "9e7cfbed",
   "metadata": {},
   "outputs": [],
   "source": [
    "def addmod(a,b,n):\n",
    "    return (a+b)%n\n",
    "def multmod(a,b,n):\n",
    "    return (a*b)%n\n",
    "\n",
    "def cayley(G,n,op):\n",
    "    print(\"The Cayley's table for the group G =\",G,\"is\")\n",
    "    for i in G:\n",
    "        for j in G:\n",
    "            print(op(i,j,n),end=\"\\t\")\n",
    "        print(\"\\n\")\n",
    "\n",
    "def commutative(G,n,op):\n",
    "    noncomm = [x for x in G for y in G if op(x,y,n)!=op(y,x,n)]\n",
    "    if noncomm:\n",
    "        print(\"The given operation is not commutative on the set\",G)\n",
    "        return\n",
    "    print(\"The given operation is commutative on the set\",G)"
   ]
  },
  {
   "cell_type": "code",
   "execution_count": 5,
   "id": "5b1dc732",
   "metadata": {},
   "outputs": [
    {
     "name": "stdout",
     "output_type": "stream",
     "text": [
      "The Cayley's table for the group G = {0, 1, 2, 3, 4, 5} is\n",
      "0\t1\t2\t3\t4\t5\t\n",
      "\n",
      "1\t2\t3\t4\t5\t0\t\n",
      "\n",
      "2\t3\t4\t5\t0\t1\t\n",
      "\n",
      "3\t4\t5\t0\t1\t2\t\n",
      "\n",
      "4\t5\t0\t1\t2\t3\t\n",
      "\n",
      "5\t0\t1\t2\t3\t4\t\n",
      "\n",
      "The given operation is commutative on the set {0, 1, 2, 3, 4, 5}\n"
     ]
    }
   ],
   "source": [
    "cayley({0,1,2,3,4,5},6,addmod)\n",
    "commutative({0,1,2,3,4,5},6,addmod)"
   ]
  },
  {
   "cell_type": "markdown",
   "id": "56392a0b",
   "metadata": {},
   "source": [
    "### Further Simplification Using Sympy Matrices"
   ]
  },
  {
   "cell_type": "code",
   "execution_count": 1,
   "id": "e79bd2d6",
   "metadata": {},
   "outputs": [
    {
     "name": "stdout",
     "output_type": "stream",
     "text": [
      "Cayley table for G is\n",
      "⎡0  1  2  3  4  5⎤\n",
      "⎢                ⎥\n",
      "⎢1  2  3  4  5  0⎥\n",
      "⎢                ⎥\n",
      "⎢2  3  4  5  0  1⎥\n",
      "⎢                ⎥\n",
      "⎢3  4  5  0  1  2⎥\n",
      "⎢                ⎥\n",
      "⎢4  5  0  1  2  3⎥\n",
      "⎢                ⎥\n",
      "⎣5  0  1  2  3  4⎦\n",
      "The operation is  commutative\n"
     ]
    }
   ],
   "source": [
    "def addmod(a,b,n):\n",
    "    return (a+b)%n\n",
    "def multmod(a,b,n):\n",
    "    return (a*b)%n\n",
    "\n",
    "from sympy import Matrix, pprint\n",
    "def cayley(G,n,op):\n",
    "    table = Matrix([[op(a,b,n) for a in G] for b in G])\n",
    "    print(\"Cayley table for G is\")\n",
    "    pprint(table)\n",
    "    print(\"The operation is\", \"\" if table.is_symmetric() else \"not\",\"commutative\")\n",
    "    \n",
    "cayley({0,1,2,3,4,5},6,addmod)"
   ]
  },
  {
   "cell_type": "markdown",
   "id": "50716057",
   "metadata": {},
   "source": [
    "## Checking all axioms"
   ]
  },
  {
   "cell_type": "code",
   "execution_count": 26,
   "id": "53e9d574",
   "metadata": {},
   "outputs": [],
   "source": [
    "import sympy as sp\n",
    "def addmod(a,b,n):\n",
    "    return (a+b)%n\n",
    "def multmod(a,b,n):\n",
    "    return (a*b)%n\n",
    "def check_group(G,n, op):\n",
    "    id = None\n",
    "    table = sp.Matrix([[op(a,b,n) for a in G] for b in G])\n",
    "    sp.pprint(table)\n",
    "    #Closure\n",
    "    for i in table:\n",
    "        if i not in G:\n",
    "            print(\"Closure not satisfied\")\n",
    "            return\n",
    "    #Associativity\n",
    "    no_asso = [(a,b,c) for a in G for b in G for c in G if op(op(a,b,n),c,n)!= op(a,op(b,c,n),n)]\n",
    "    if no_asso:\n",
    "        print(\"Associativity axiom not satisfied.\")\n",
    "    else:\n",
    "        print(\"Associativity satisfied.\")\n",
    "    #Commutativity\n",
    "    if table.is_symmetric():\n",
    "        print(\"G is commutative\")\n",
    "    else:\n",
    "        print(\"G is non-commutative\")\n",
    "    for i in range(len(G)):\n",
    "        if list(table[i,:]) == G:\n",
    "            id = G[i]\n",
    "            print(\"identity exists,\",G[i])\n",
    "            break\n",
    "    if id != None:\n",
    "        for i in range(len(G)):\n",
    "            if id not in table[i,:]:\n",
    "                print(\"No inverse for\",G[i])\n",
    "                return\n",
    "        print(\"Inverse exists for all elements\")"
   ]
  },
  {
   "cell_type": "code",
   "execution_count": 27,
   "id": "7e45283e",
   "metadata": {},
   "outputs": [
    {
     "name": "stdout",
     "output_type": "stream",
     "text": [
      "⎡0  1  2⎤\n",
      "⎢       ⎥\n",
      "⎢1  2  0⎥\n",
      "⎢       ⎥\n",
      "⎣2  0  1⎦\n",
      "Associativity satisfied.\n",
      "G is commutative\n",
      "identity exists, 0\n",
      "Inverse exists for all elements\n"
     ]
    }
   ],
   "source": [
    "check_group([0,1,2],3,addmod)"
   ]
  },
  {
   "cell_type": "markdown",
   "id": "a9d1a1bd",
   "metadata": {},
   "source": [
    "### Each Axiom as  Function"
   ]
  },
  {
   "cell_type": "code",
   "execution_count": 24,
   "id": "78f33f21",
   "metadata": {},
   "outputs": [],
   "source": [
    "import sympy as sp\n",
    "def addmod(a,b,n):\n",
    "    return (a+b)%n\n",
    "def multmod(a,b,n):\n",
    "    return (a*b)%n\n",
    "\n",
    "def cayley(G,op,n):\n",
    "    table = sp.Matrix([[op(a,b,n) for a in G] for b in G])\n",
    "    return table\n",
    "def closure(G,op,n):\n",
    "    table = cayley(G,op,n)\n",
    "    for i in table:\n",
    "        if i not in G:\n",
    "            print(\"Closure not satisfied\")\n",
    "            return False\n",
    "    return True\n",
    "\n",
    "def Associative(G,op,n):\n",
    "    no_asso = [(a,b,c) for a in G for b in G for c in G if op(op(a,b,n),c,n)!= op(a,op(b,c,n),n)]\n",
    "    if no_asso:\n",
    "        print(\"Associativity axiom not satisfied.\")\n",
    "        return False\n",
    "    return True\n",
    "\n",
    "def identity(G,op,n):\n",
    "    table = cayley(G,op,n)\n",
    "    for i in range(len(G)):\n",
    "        if list(table[i,:]) == G:\n",
    "            return G[i]\n",
    "    print(\"No identity found\")\n",
    "    return None\n",
    "\n",
    "def has_inverses(G,op,n):\n",
    "    table = cayley(G,op,n)\n",
    "    iden = identity(G,op,n)\n",
    "    if iden != None:\n",
    "        for i in range(len(G)):\n",
    "            if iden not in table[i,:]:\n",
    "                print(\"No inverse for\",G[i])\n",
    "                return False\n",
    "        return True\n",
    "    return False\n",
    "\n",
    "def commutativity(G,op,n):\n",
    "    table = cayley(G,op,n)\n",
    "    return True if table.is_symmetric() else False\n",
    "\n",
    "def check_group(G,op,n):\n",
    "    iden = None\n",
    "    table = cayley(G,op,n)\n",
    "    sp.pprint(table)\n",
    "    if closure(G,op,n) and Associative(G,op,n):\n",
    "        iden = identity(G,op,n)\n",
    "        if iden != None and has_inverses(G,op,n):\n",
    "            print(\"G is a group under the given operation with identity\",iden)\n",
    "    else:\n",
    "        print(\"G is not a group under the given operation.\")"
   ]
  },
  {
   "cell_type": "code",
   "execution_count": 25,
   "id": "23416fd9",
   "metadata": {},
   "outputs": [
    {
     "name": "stdout",
     "output_type": "stream",
     "text": [
      "⎡0  1  2  3⎤\n",
      "⎢          ⎥\n",
      "⎢1  2  3  0⎥\n",
      "⎢          ⎥\n",
      "⎢2  3  0  1⎥\n",
      "⎢          ⎥\n",
      "⎣3  0  1  2⎦\n",
      "G is a group under the given operation with identity 0\n"
     ]
    }
   ],
   "source": [
    "check_group([0,1,2,3],addmod,4) #Input set as a list"
   ]
  },
  {
   "cell_type": "code",
   "execution_count": null,
   "id": "eccb0624",
   "metadata": {},
   "outputs": [],
   "source": []
  },
  {
   "cell_type": "code",
   "execution_count": null,
   "id": "347ac649",
   "metadata": {},
   "outputs": [],
   "source": []
  }
 ],
 "metadata": {
  "kernelspec": {
   "display_name": "Python 3 (ipykernel)",
   "language": "python",
   "name": "python3"
  },
  "language_info": {
   "codemirror_mode": {
    "name": "ipython",
    "version": 3
   },
   "file_extension": ".py",
   "mimetype": "text/x-python",
   "name": "python",
   "nbconvert_exporter": "python",
   "pygments_lexer": "ipython3",
   "version": "3.11.1"
  }
 },
 "nbformat": 4,
 "nbformat_minor": 5
}
