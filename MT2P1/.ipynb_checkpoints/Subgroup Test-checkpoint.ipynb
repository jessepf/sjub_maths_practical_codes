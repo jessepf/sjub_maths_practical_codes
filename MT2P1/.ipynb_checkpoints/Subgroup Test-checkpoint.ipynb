{
 "cells": [
  {
   "cell_type": "markdown",
   "id": "3a4098c6",
   "metadata": {},
   "source": [
    "### Subgroup Using One-Step Subgroup Test on Finite Subsets\n",
    "Uses one-step subgroup test for finite subsets.\n",
    "\n",
    "Let $(G,*)$ be a group. Let $H$ be a finite subset of $G$. Then $H$ is a subgroup $\\iff \\forall a,b\\in H,a*b\\in H$ "
   ]
  },
  {
   "cell_type": "code",
   "execution_count": 2,
   "id": "36023557",
   "metadata": {},
   "outputs": [],
   "source": [
    "def addmod(a,b,n):\n",
    "    return (a+b)%n\n",
    "def multmod(a,b,n):\n",
    "    return (a*b)%n\n",
    "\n",
    "def subgroup(H,n,op):\n",
    "    onestep = {op(a,b,n) for a in H for b in H if op(a,b,n) not in H}\n",
    "    if onestep:\n",
    "        print(\"H is not a subgroup of G. Elements missing are \",onestep)\n",
    "    else:\n",
    "        print(\"H is a subgroup of G\")"
   ]
  },
  {
   "cell_type": "code",
   "execution_count": 4,
   "id": "bbbfea05",
   "metadata": {},
   "outputs": [
    {
     "name": "stdout",
     "output_type": "stream",
     "text": [
      "H is a subgroup of G\n"
     ]
    }
   ],
   "source": [
    "subgroup({0,2,4},6,addmod)"
   ]
  },
  {
   "cell_type": "code",
   "execution_count": null,
   "id": "3e901ec5",
   "metadata": {},
   "outputs": [],
   "source": []
  }
 ],
 "metadata": {
  "kernelspec": {
   "display_name": "Python 3 (ipykernel)",
   "language": "python",
   "name": "python3"
  },
  "language_info": {
   "codemirror_mode": {
    "name": "ipython",
    "version": 3
   },
   "file_extension": ".py",
   "mimetype": "text/x-python",
   "name": "python",
   "nbconvert_exporter": "python",
   "pygments_lexer": "ipython3",
   "version": "3.11.1"
  }
 },
 "nbformat": 4,
 "nbformat_minor": 5
}
