{
 "cells": [
  {
   "cell_type": "markdown",
   "id": "84cf9235",
   "metadata": {},
   "source": [
    "## Cayley's Table and Commutativity of Given Operation"
   ]
  },
  {
   "cell_type": "code",
   "execution_count": 1,
   "id": "eebf6a53",
   "metadata": {},
   "outputs": [],
   "source": [
    "def cayley(G,n,op):\n",
    "    print(\"The Cayley's table for the group G =\",G,\"is\")\n",
    "    for i in G:\n",
    "        for j in G:\n",
    "            if op=='+':\n",
    "                print((i+j)%n,end=\"\\t\")\n",
    "        else:\n",
    "            print((i*j)%n,end=\"\\t\")\n",
    "            print(\"\\n\")\n",
    "def commutative(G,n,op):\n",
    "    for i in G:\n",
    "        for j in G:\n",
    "            if op=='+':\n",
    "                if (i+j)%n != (j+i)%n :\n",
    "                    print(\"The given operation is not commutative on the set\",G)\n",
    "                    return\n",
    "                else:\n",
    "                    if (i*j)%n != (j*i)%n :\n",
    "                        print(\"The given operation is not commutative on the set\",G)\n",
    "                        return\n",
    "    print(\"The given operation is commutative on the set\",G)"
   ]
  },
  {
   "cell_type": "code",
   "execution_count": 2,
   "id": "225e5f89",
   "metadata": {},
   "outputs": [
    {
     "name": "stdout",
     "output_type": "stream",
     "text": [
      "The Cayley's table for the group G = [0, 1, 2, 3, 4, 5] is\n",
      "0\t1\t2\t3\t4\t5\t0\t\n",
      "\n",
      "1\t2\t3\t4\t5\t0\t5\t\n",
      "\n",
      "2\t3\t4\t5\t0\t1\t4\t\n",
      "\n",
      "3\t4\t5\t0\t1\t2\t3\t\n",
      "\n",
      "4\t5\t0\t1\t2\t3\t2\t\n",
      "\n",
      "5\t0\t1\t2\t3\t4\t1\t\n",
      "\n",
      "The given operation is commutative on the set [0, 1, 2, 3, 4, 5]\n"
     ]
    }
   ],
   "source": [
    "cayley([0,1,2,3,4,5],6,'+')\n",
    "commutative([0,1,2,3,4,5],6,'+')"
   ]
  },
  {
   "cell_type": "markdown",
   "id": "9bef8420",
   "metadata": {},
   "source": [
    "### Alternative Program using Operator Package"
   ]
  },
  {
   "cell_type": "code",
   "execution_count": 12,
   "id": "9e7cfbed",
   "metadata": {},
   "outputs": [],
   "source": [
    "from operator import add, mul\n",
    "def cayley(G,n,op):\n",
    "    print(\"The Cayley's table for the group G =\",G,\"is\")\n",
    "    for i in G:\n",
    "        for j in G:\n",
    "            print(op(i,j)%n,end=\"\\t\")\n",
    "        print(\"\\n\")\n",
    "def commutative(G,n,op):\n",
    "    noncomm = [x for x in G for y in G if op(x,y)%n!=op(y,x)%n]\n",
    "    for i in G:\n",
    "        for j in G:\n",
    "            if op(i,j)%n != op(j,i)%n:\n",
    "                print(\"The given operation is not commutative on the set\",G)\n",
    "                return\n",
    "    print(\"The given operation is commutative on the set\",G)"
   ]
  },
  {
   "cell_type": "code",
   "execution_count": 13,
   "id": "5b1dc732",
   "metadata": {},
   "outputs": [
    {
     "name": "stdout",
     "output_type": "stream",
     "text": [
      "The Cayley's table for the group G = [0, 1, 2, 3, 4, 5] is\n",
      "0\t1\t2\t3\t4\t5\t\n",
      "\n",
      "1\t2\t3\t4\t5\t0\t\n",
      "\n",
      "2\t3\t4\t5\t0\t1\t\n",
      "\n",
      "3\t4\t5\t0\t1\t2\t\n",
      "\n",
      "4\t5\t0\t1\t2\t3\t\n",
      "\n",
      "5\t0\t1\t2\t3\t4\t\n",
      "\n",
      "The given operation is commutative on the set [0, 1, 2, 3, 4, 5]\n"
     ]
    }
   ],
   "source": [
    "cayley([0,1,2,3,4,5],6,add)\n",
    "commutative([0,1,2,3,4,5],6,add)"
   ]
  },
  {
   "cell_type": "markdown",
   "id": "02c8b486",
   "metadata": {},
   "source": [
    "## Further Simplification using List Comprehension"
   ]
  },
  {
   "cell_type": "code",
   "execution_count": 14,
   "id": "3f15ae7e",
   "metadata": {},
   "outputs": [],
   "source": [
    "from operator import add, mul\n",
    "def cayley(G,n,op):\n",
    "    print(\"The Cayley's table for the group G =\",G,\"is\")\n",
    "    for i in G:\n",
    "        for j in G:\n",
    "            print(op(i,j)%n,end=\"\\t\")\n",
    "        print(\"\\n\")\n",
    "def commutative(G,n,op):\n",
    "    noncomm = [x for x in G for y in G if op(x,y)%n!=op(y,x)%n]\n",
    "    if noncomm:\n",
    "        print(\"The given operation is not commutative on the set\",G)\n",
    "    else:\n",
    "        print(\"The given operation is commutative on the set\",G)"
   ]
  },
  {
   "cell_type": "code",
   "execution_count": 15,
   "id": "f20ef343",
   "metadata": {},
   "outputs": [
    {
     "name": "stdout",
     "output_type": "stream",
     "text": [
      "The Cayley's table for the group G = [0, 1, 2, 3, 4, 5] is\n",
      "0\t1\t2\t3\t4\t5\t\n",
      "\n",
      "1\t2\t3\t4\t5\t0\t\n",
      "\n",
      "2\t3\t4\t5\t0\t1\t\n",
      "\n",
      "3\t4\t5\t0\t1\t2\t\n",
      "\n",
      "4\t5\t0\t1\t2\t3\t\n",
      "\n",
      "5\t0\t1\t2\t3\t4\t\n",
      "\n",
      "The given operation is commutative on the set [0, 1, 2, 3, 4, 5]\n"
     ]
    }
   ],
   "source": [
    "cayley([0,1,2,3,4,5],6,add)\n",
    "commutative([0,1,2,3,4,5],6,add)"
   ]
  },
  {
   "cell_type": "code",
   "execution_count": null,
   "id": "177b68dd",
   "metadata": {},
   "outputs": [],
   "source": []
  }
 ],
 "metadata": {
  "kernelspec": {
   "display_name": "Python 3 (ipykernel)",
   "language": "python",
   "name": "python3"
  },
  "language_info": {
   "codemirror_mode": {
    "name": "ipython",
    "version": 3
   },
   "file_extension": ".py",
   "mimetype": "text/x-python",
   "name": "python",
   "nbconvert_exporter": "python",
   "pygments_lexer": "ipython3",
   "version": "3.11.1"
  }
 },
 "nbformat": 4,
 "nbformat_minor": 5
}
