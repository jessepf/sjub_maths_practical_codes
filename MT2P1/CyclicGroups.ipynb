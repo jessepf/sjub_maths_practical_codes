{
 "cells": [
  {
   "cell_type": "code",
   "execution_count": 5,
   "id": "d300d7b7",
   "metadata": {},
   "outputs": [
    {
     "name": "stdout",
     "output_type": "stream",
     "text": [
      "The group {0, 1, 2, 3} is cyclic and the set of generators is {1, 3}\n"
     ]
    }
   ],
   "source": [
    "def is_cyclic(G,op,n):\n",
    "    generators=set()\n",
    "    for i in G:\n",
    "        if op=='+':\n",
    "            gtd_i={(k*i)%n for k in range(1,len(G)+1)}\n",
    "        else:\n",
    "            gtd_i={(i**k)%n for k in range(1,len(G)+1)}\n",
    "        if gtd_i==G:\n",
    "            generators.add(i)\n",
    "    if generators == set():\n",
    "        print(\"The group\", set(G) ,\"is not cyclic.\")\n",
    "    else:\n",
    "        print(\"The group\", set(G), \"is cyclic and the set of generators is\",generators)\n",
    "is_cyclic({0,1,2,3},'+',4)"
   ]
  },
  {
   "cell_type": "code",
   "execution_count": 49,
   "id": "af258ffc",
   "metadata": {},
   "outputs": [
    {
     "name": "stdout",
     "output_type": "stream",
     "text": [
      "G is cyclic and generators are\n",
      "Divisors are [1, 5]\n",
      "Elements of order {1: [0], 5: [1, 2, 3, 4]}\n"
     ]
    }
   ],
   "source": [
    "def a_pow_mod(a,k,n):\n",
    "    return (k*a)%n\n",
    "\n",
    "def m_pow_mod(a,k,n):\n",
    "    return (a**k)%n\n",
    "\n",
    "def gen(a,op,n):\n",
    "    return {op(a,k,n) for k in range(n)}\n",
    "\n",
    "def is_cyclic(G,op,n):\n",
    "    subg = {a:gen(a,op,n) for a in G}\n",
    "    divisors = [a for a in range(1,len(G)+1) if n%a == 0]\n",
    "    ordn = {i:[] for i in divisors}\n",
    "    for a in G:\n",
    "        ordn[len(subg[a])].append(a)\n",
    "    if len(G) in ordn.keys():\n",
    "        print(\"G is cyclic and generators are\")\n",
    "    else:\n",
    "        print(\"G is not cyclic\")\n",
    "    print(\"Divisors are\",divisors)\n",
    "    print(\"Elements of order\",ordn)\n",
    "\n",
    "is_cyclic({0,1,2,3,4},a_pow_mod,5)"
   ]
  },
  {
   "cell_type": "code",
   "execution_count": null,
   "id": "a2f150ae",
   "metadata": {},
   "outputs": [],
   "source": []
  }
 ],
 "metadata": {
  "kernelspec": {
   "display_name": "Python 3 (ipykernel)",
   "language": "python",
   "name": "python3"
  },
  "language_info": {
   "codemirror_mode": {
    "name": "ipython",
    "version": 3
   },
   "file_extension": ".py",
   "mimetype": "text/x-python",
   "name": "python",
   "nbconvert_exporter": "python",
   "pygments_lexer": "ipython3",
   "version": "3.11.1"
  }
 },
 "nbformat": 4,
 "nbformat_minor": 5
}
