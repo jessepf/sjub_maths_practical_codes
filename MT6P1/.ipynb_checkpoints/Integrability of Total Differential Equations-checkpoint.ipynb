{
 "cells": [
  {
   "cell_type": "markdown",
   "id": "f5c4c960",
   "metadata": {},
   "source": [
    "## Integrability of Total Differential Equations\n",
    "A total differential equation of the form $P\\frac{dx}{dz}+Q\\frac{dy}{dz}+R=0$ is integrable if\n",
    "$$P\\left(\\frac{\\partial{Q}}{\\partial{z}}-\\frac{\\partial{R}}{\\partial{y}}\\right)+Q\\left(\\frac{\\partial{R}}{\\partial{x}}-\\frac{\\partial{P}}{\\partial{z}}\\right)+R\\left(\\frac{\\partial{P}}{\\partial{y}}-\\frac{\\partial{Q}}{\\partial{x}}\\right)=0$$\n",
    "\n"
   ]
  },
  {
   "cell_type": "code",
   "execution_count": 15,
   "id": "eb38a305",
   "metadata": {},
   "outputs": [
    {
     "name": "stdout",
     "output_type": "stream",
     "text": [
      "Integrable\n"
     ]
    }
   ],
   "source": [
    "from sympy.abc import x,y,z\n",
    "P=y+z\n",
    "Q=z+x\n",
    "R=x+y\n",
    "f= (P*(Q.diff(z)-R.diff(y))+Q*(R.diff(x)-P.diff(z))+R*(P.diff(y)-Q.diff(x))).simplify()\n",
    "if f==0:\n",
    "    print(\"Integrable\")\n",
    "else:\n",
    "    print(\"Not integrable\")"
   ]
  },
  {
   "cell_type": "code",
   "execution_count": 16,
   "id": "5b232667",
   "metadata": {},
   "outputs": [
    {
     "name": "stdout",
     "output_type": "stream",
     "text": [
      "Not integrable\n"
     ]
    }
   ],
   "source": [
    "from sympy.abc import x,y,z\n",
    "P=y+z\n",
    "Q=z*x\n",
    "R=x+y\n",
    "f= (P*(Q.diff(z)-R.diff(y))+Q*(R.diff(x)-P.diff(z))+R*(P.diff(y)-Q.diff(x))).simplify()\n",
    "if f==0:\n",
    "    print(\"Integrable\")\n",
    "else:\n",
    "    print(\"Not integrable\")"
   ]
  },
  {
   "cell_type": "code",
   "execution_count": null,
   "id": "6b60d50a",
   "metadata": {},
   "outputs": [],
   "source": []
  }
 ],
 "metadata": {
  "kernelspec": {
   "display_name": "Python 3 (ipykernel)",
   "language": "python",
   "name": "python3"
  },
  "language_info": {
   "codemirror_mode": {
    "name": "ipython",
    "version": 3
   },
   "file_extension": ".py",
   "mimetype": "text/x-python",
   "name": "python",
   "nbconvert_exporter": "python",
   "pygments_lexer": "ipython3",
   "version": "3.11.1"
  }
 },
 "nbformat": 4,
 "nbformat_minor": 5
}
