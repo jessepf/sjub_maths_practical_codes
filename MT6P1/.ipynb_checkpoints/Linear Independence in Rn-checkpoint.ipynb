{
 "cells": [
  {
   "cell_type": "markdown",
   "id": "9cd4b1b4",
   "metadata": {},
   "source": [
    "## Linear Independence in $\\mathbb{R}_n$\n",
    "In manual solution, we solve \n",
    "$$\\sum_{i=1}^n a_iv_i=0$$\n",
    "where $a_i$'s are scalars we solve the equation for, and $v_i$'s are the vectors in the set passed.\n",
    "\n",
    "If it has only zero solution for scalars, then the collection of vectors are said to be linearly independent."
   ]
  },
  {
   "cell_type": "markdown",
   "id": "3baa3ab9",
   "metadata": {},
   "source": [
    "#### Program Using Numpy and Sympy\n",
    "Challenge is in verifying if the vector is all zeros. The trick used here is simple: Add up the absolute value of the scalars to get zero. We're emphasising on absolute values because, say, we had two scalars -1, 1 and rest all zero. Here, two scalars are non-zero, but the sum of scalars is zero. Hence, it will give a false positive."
   ]
  },
  {
   "cell_type": "code",
   "execution_count": 4,
   "id": "1841205d",
   "metadata": {},
   "outputs": [
    {
     "name": "stdout",
     "output_type": "stream",
     "text": [
      "Yes! The given set is linearly independent.\n"
     ]
    },
    {
     "data": {
      "text/plain": [
       "True"
      ]
     },
     "execution_count": 4,
     "metadata": {},
     "output_type": "execute_result"
    }
   ],
   "source": [
    "import numpy as np\n",
    "import sympy as sp\n",
    "def is_independent(S):\n",
    "    alphas = sp.symbols(f'a:{len(S)}') #gives the variables (a0,a1,a3,...)\n",
    "    M = 0\n",
    "    for i in range(len(S)):\n",
    "        M = M + alphas[i]*S[i]\n",
    "    soln = sp.solve(M, alphas, manual=True)\n",
    "    if np.abs(soln[0]).sum()==0:\n",
    "        print(\"Yes! The given set is linearly independent.\")\n",
    "        return True\n",
    "    print(\"No! The given set is linearly dependent.\")\n",
    "    print(\"And the scalars are\", soln)\n",
    "    return False\n",
    "# Solution of Problem 1\n",
    "S = np.array([[1,0,0,-1],[0,1,0,-1],[0,0,1,-1],[0,0,0,1]])\n",
    "is_independent(S)"
   ]
  },
  {
   "cell_type": "markdown",
   "id": "f6e17a4e",
   "metadata": {},
   "source": [
    "#### Alternate Code\n",
    "Here, we avoid the complicated process ```np.abs(soln[0]).sum()``` and check if each value is zero. If it's not, end the function execution. This is easier to explain, though the first one is more 'mathematically exciting'!"
   ]
  },
  {
   "cell_type": "code",
   "execution_count": 32,
   "id": "d36a0874",
   "metadata": {},
   "outputs": [
    {
     "name": "stdout",
     "output_type": "stream",
     "text": [
      "Yes! The given set is linearly independent.\n"
     ]
    },
    {
     "data": {
      "text/plain": [
       "True"
      ]
     },
     "execution_count": 32,
     "metadata": {},
     "output_type": "execute_result"
    }
   ],
   "source": [
    "import numpy as np\n",
    "import sympy as sp\n",
    "def is_independent(S):\n",
    "    alphas = sp.symbols(f'a:{len(S)}') #gives the variables (a0,a1,a3,...)\n",
    "    M = 0\n",
    "    for i in range(len(S)):\n",
    "        M = M + alphas[i]*S[i]\n",
    "    soln = sp.solve(M, alphas, dict=True)[0]\n",
    "    for i in soln.values():\n",
    "        if i!=0:\n",
    "            print(\"No! The given set is linearly dependent.\")\n",
    "            print(\"And the scalars are\", soln)\n",
    "            return False\n",
    "    print(\"Yes! The given set is linearly independent.\")\n",
    "    return True\n",
    "    \n",
    "# Solution of Problem 1\n",
    "S = np.array([[1,0,0,-1],[0,1,0,-1],[0,0,1,-1],[0,0,0,1]])\n",
    "is_independent(S)"
   ]
  },
  {
   "cell_type": "code",
   "execution_count": 33,
   "id": "a43e21ad",
   "metadata": {},
   "outputs": [
    {
     "name": "stdout",
     "output_type": "stream",
     "text": [
      "No! The given set is linearly dependent.\n",
      "And the scalars are {a0: -a1, a2: 0}\n"
     ]
    },
    {
     "data": {
      "text/plain": [
       "False"
      ]
     },
     "execution_count": 33,
     "metadata": {},
     "output_type": "execute_result"
    }
   ],
   "source": [
    "# Solution of Problem 1\n",
    "S = np.array([[1,1,0],[1,1,0],[0,0,1]])\n",
    "is_independent(S)"
   ]
  },
  {
   "cell_type": "code",
   "execution_count": null,
   "id": "a8f010fe",
   "metadata": {},
   "outputs": [],
   "source": []
  }
 ],
 "metadata": {
  "kernelspec": {
   "display_name": "Python 3 (ipykernel)",
   "language": "python",
   "name": "python3"
  },
  "language_info": {
   "codemirror_mode": {
    "name": "ipython",
    "version": 3
   },
   "file_extension": ".py",
   "mimetype": "text/x-python",
   "name": "python",
   "nbconvert_exporter": "python",
   "pygments_lexer": "ipython3",
   "version": "3.11.1"
  }
 },
 "nbformat": 4,
 "nbformat_minor": 5
}
