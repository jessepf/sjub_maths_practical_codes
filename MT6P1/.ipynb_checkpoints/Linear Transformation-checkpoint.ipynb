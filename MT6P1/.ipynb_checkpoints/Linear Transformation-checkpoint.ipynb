{
 "cells": [
  {
   "cell_type": "markdown",
   "id": "866c2e7d",
   "metadata": {},
   "source": [
    "## Checking if a given transformation is linear\n",
    "Manually, we check if $T(cx+y)=cT(x)+T(y)$.\n",
    "\n",
    "### Question\n",
    "$$T(x_1,x_2)=(x_1,2x_1+x_2)$$"
   ]
  },
  {
   "cell_type": "markdown",
   "id": "08395b29",
   "metadata": {},
   "source": [
    "### Code with Vectors as Numpy Arrays\n",
    "Since we are using numpy array, we canno expand array entries which are expressions involving symbols directly, and also, comparison of arrays is harder. Hence, we convert each array to a list or tuple before comparing."
   ]
  },
  {
   "cell_type": "code",
   "execution_count": 21,
   "id": "e54ee7a0",
   "metadata": {},
   "outputs": [
    {
     "name": "stdout",
     "output_type": "stream",
     "text": [
      "T(cx+y) is: (c*x0 + y0, 2*c*x0 + c*x1 + 2*y0 + y1)\n",
      "cT(x) + T(y) is (c*x0 + y0, 2*c*x0 + c*x1 + 2*y0 + y1)\n",
      "And, T(cx+y) = cT(x) + T(y). So, the given T is linear.\n"
     ]
    }
   ],
   "source": [
    "from sympy import symbols, expand\n",
    "import numpy as np\n",
    "\n",
    "def check_linear_ns(T,no_coors):\n",
    "    x = np.array(symbols(f'x:{no_coors}'))\n",
    "    y = np.array(symbols(f'y:{no_coors}'))\n",
    "    c = symbols('c')\n",
    "    #compute the lhs and rhs\n",
    "    lhs = T(c*x + y)\n",
    "    rhs = c*T(x) + T(y)\n",
    "    # expand each co-ordinate to compare\n",
    "    lhs = tuple([expand(i) for i in lhs])\n",
    "    print('T(cx+y) is:',lhs)\n",
    "    rhs = tuple([expand(i) for i in rhs])\n",
    "    print('cT(x) + T(y) is',rhs)\n",
    "    if lhs == rhs:\n",
    "        print('And, T(cx+y) = cT(x) + T(y). So, the given T is linear.')\n",
    "    else:\n",
    "        print('And, T(cx+y) is not equal to cT(x) + T(y). So, the given,T is not linear.')\n",
    "\n",
    "def T_ns(x):\n",
    "    return np.array([x[0],2*x[0]+x[1]])\n",
    "\n",
    "check_linear_ns(T_ns,2)"
   ]
  },
  {
   "cell_type": "markdown",
   "id": "33f3e36e",
   "metadata": {},
   "source": [
    "### Code with Vectors as Sympy Matrices\n",
    "expand() plays nice with Matrices. Hence it cuts a few lines short."
   ]
  },
  {
   "cell_type": "code",
   "execution_count": 16,
   "id": "02abbe30",
   "metadata": {},
   "outputs": [
    {
     "name": "stdout",
     "output_type": "stream",
     "text": [
      "T(cx+y) is: (c*x0 + y0, 2*c*x0 + c*x1 + 2*y0 + y1)\n",
      "cT(x) + T(y) is (c*x0 + y0, 2*c*x0 + c*x1 + 2*y0 + y1)\n",
      "And, T(cx+y) = cT(x) + T(y). So, the given T is linear.\n"
     ]
    }
   ],
   "source": [
    "import sympy as sp\n",
    "\n",
    "def check_linear_s(T,no_coors):\n",
    "    x = sp.Matrix(sp.symbols(f'x:{no_coors}'))\n",
    "    y = sp.Matrix(sp.symbols(f'y:{no_coors}'))\n",
    "    c = sp.Symbol('c')\n",
    "    #compute the lhs and rhs\n",
    "    lhs = T(c*x + y)\n",
    "    rhs = (c*T(x) + T(y)).expand()\n",
    "    print('T(cx+y) is:',tuple(lhs))\n",
    "    print('cT(x) + T(y) is', tuple(rhs))\n",
    "    if lhs == rhs:\n",
    "        print('And, T(cx+y) = cT(x) + T(y). So, the given T is linear.')\n",
    "    else:\n",
    "        print('And, T(cx+y) is not equal to cT(x) + T(y). So, the given,T is not linear.')\n",
    "\n",
    "def T_s(x):\n",
    "    return sp.Matrix([x[0],2*x[0]+x[1]])\n",
    "\n",
    "check_linear_s(T_s,2)"
   ]
  },
  {
   "cell_type": "markdown",
   "id": "89f3dabe",
   "metadata": {},
   "source": [
    "### Question 2\n",
    "$$T(x,y,z)=(x-y,2z,1)$$"
   ]
  },
  {
   "cell_type": "code",
   "execution_count": 22,
   "id": "29a1a878",
   "metadata": {},
   "outputs": [
    {
     "name": "stdout",
     "output_type": "stream",
     "text": [
      "T(cx+y) is: (c*x0 - c*x1 + y0 - y1, 2*c*x2 + 2*y2, 1)\n",
      "cT(x) + T(y) is (c*x0 - c*x1 + y0 - y1, 2*c*x2 + 2*y2, c + 1)\n",
      "And, T(cx+y) is not equal to cT(x) + T(y). So, the given,T is not linear.\n"
     ]
    }
   ],
   "source": [
    "def T2_ns(x):\n",
    "    return np.array([x[0]-x[1], 2*x[2], 1])\n",
    "check_linear_ns(T2_ns,3)\n"
   ]
  },
  {
   "cell_type": "code",
   "execution_count": 23,
   "id": "b62f245e",
   "metadata": {},
   "outputs": [
    {
     "name": "stdout",
     "output_type": "stream",
     "text": [
      "T(cx+y) is: (c*x0 - c*x1 + y0 - y1, 2*c*x2 + 2*y2, 1)\n",
      "cT(x) + T(y) is (c*x0 - c*x1 + y0 - y1, 2*c*x2 + 2*y2, c + 1)\n",
      "And, T(cx+y) is not equal to cT(x) + T(y). So, the given,T is not linear.\n"
     ]
    }
   ],
   "source": [
    "def T2_s(x):\n",
    "    return sp.Matrix([x[0]-x[1], 2*x[2], 1])\n",
    "check_linear_s(T2_s,3)"
   ]
  },
  {
   "cell_type": "code",
   "execution_count": null,
   "id": "45a55092",
   "metadata": {},
   "outputs": [],
   "source": []
  }
 ],
 "metadata": {
  "kernelspec": {
   "display_name": "Python 3 (ipykernel)",
   "language": "python",
   "name": "python3"
  },
  "language_info": {
   "codemirror_mode": {
    "name": "ipython",
    "version": 3
   },
   "file_extension": ".py",
   "mimetype": "text/x-python",
   "name": "python",
   "nbconvert_exporter": "python",
   "pygments_lexer": "ipython3",
   "version": "3.11.1"
  }
 },
 "nbformat": 4,
 "nbformat_minor": 5
}
