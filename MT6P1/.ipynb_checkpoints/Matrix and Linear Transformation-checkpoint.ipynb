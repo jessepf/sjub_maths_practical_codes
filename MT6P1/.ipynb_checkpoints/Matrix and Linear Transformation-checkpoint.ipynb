{
 "cells": [
  {
   "cell_type": "markdown",
   "id": "95e02e37",
   "metadata": {},
   "source": [
    "## Matrix of Linear Transformation"
   ]
  },
  {
   "cell_type": "code",
   "execution_count": 22,
   "id": "3f3e266c",
   "metadata": {},
   "outputs": [
    {
     "name": "stdout",
     "output_type": "stream",
     "text": [
      "The specified basis for the domain space is  [[-1  1  0]\n",
      " [ 5 -1  2]\n",
      " [ 1  2  1]]\n",
      "The specified basis for the co-domain space is  [[1 1 0]\n",
      " [0 0 1]\n",
      " [1 5 2]]\n",
      "Evaluating T at the vectors of basis B1:  [-2, 1.0, 0] [8, 8.0, 0] [0, 8.5, 1]\n",
      "The matrix of the linear transformation is:\n",
      " [[-2.75   8.    -2.125]\n",
      " [-1.5    0.    -3.25 ]\n",
      " [ 0.75   0.     2.125]]\n"
     ]
    }
   ],
   "source": [
    "import numpy as np\n",
    "from numpy import linalg as la\n",
    "def T(x,y,z):\n",
    "    return [x-y+z, 2*x+3*y+(1/2)*z, x+y-2*z]\n",
    "B1 = np.array([[-1,1,0],[5,-1,2],[1,2,1]])\n",
    "print(\"The specified basis for the domain space is \", B1)\n",
    "B2 = np.array([[1,1,0],[0,0,1],[1,5,2]])\n",
    "print(\"The specified basis for the co-domain space is \", B2)\n",
    "w1 = T(-1,1,0)\n",
    "w2 = T(5,-1,2)\n",
    "w3 = T(1,2,1)\n",
    "print(\"Evaluating T at the vectors of basis B1: \", w1, w2, w3)\n",
    "v1 = la.solve(B2.T,w1)\n",
    "v2 = la.solve(B2.T,w2)\n",
    "v3 = la.solve(B2.T,w3)\n",
    "M = np.array([v1,v2,v3])\n",
    "print(\"The matrix of the linear transformation is:\\n\", M.T)"
   ]
  },
  {
   "cell_type": "markdown",
   "id": "174454ae",
   "metadata": {},
   "source": [
    "## Simplifying with List Comprehension"
   ]
  },
  {
   "cell_type": "code",
   "execution_count": 23,
   "id": "3723ae43",
   "metadata": {},
   "outputs": [
    {
     "name": "stdout",
     "output_type": "stream",
     "text": [
      "Evaluating T at the vectors of basis B1:  [[-2, 1.0, 0], [8, 8.0, 0], [0, 8.5, 1]]\n",
      "The matrix of the linear transformation is:\n",
      " [[-2.75   8.    -2.125]\n",
      " [-1.5    0.    -3.25 ]\n",
      " [ 0.75   0.     2.125]]\n"
     ]
    }
   ],
   "source": [
    "import numpy as np\n",
    "\n",
    "def T(x):\n",
    "    return [x[0]-x[1]+x[2], 2*x[0]+3*x[1]+(1/2)*x[2], x[0]+x[1]-2*x[2]]\n",
    "\n",
    "B1 = np.array([[-1,1,0],[5,-1,2],[1,2,1]])\n",
    "B2 = np.array([[1,1,0],[0,0,1],[1,5,2]])\n",
    "w = [T(v) for v in B1]\n",
    "\n",
    "print(\"Evaluating T at the vectors of basis B1: \", w)\n",
    "v = np.array([np.linalg.solve(B2.T,w[i]) for i in range(len(w))])\n",
    "\n",
    "print(\"The matrix of the linear transformation is:\\n\", v.T)"
   ]
  },
  {
   "cell_type": "markdown",
   "id": "e54b4218",
   "metadata": {},
   "source": [
    "## Find the Linear Transformation if Matrix and Bases are Give"
   ]
  },
  {
   "cell_type": "code",
   "execution_count": 24,
   "id": "7aada1a9",
   "metadata": {},
   "outputs": [
    {
     "name": "stdout",
     "output_type": "stream",
     "text": [
      "The images of the ordered basis vectors in B1 under the transformation are Matrix([[2], [4]]) Matrix([[3], [-5]])\n",
      "The co-ordinates of the vector (x,y) w.r.t B1 are {a: x/2 - y/2, b: x/2 + y/2}\n",
      "The linear transformation of T is T(x,y) =  (5*x/2 + y/2, -x/2 - 9*y/2)\n"
     ]
    }
   ],
   "source": [
    "import sympy as sp\n",
    "from sympy.abc import x,y,a,b\n",
    "\n",
    "A = sp.Matrix([[2,3],[4,-5]])\n",
    "B1 = [sp.Matrix([1,-1]), sp.Matrix([1,1])]\n",
    "B2 = [sp.Matrix([1,0]), sp.Matrix([0,1])]  \n",
    "T0 = A[0,0]*B2[0] + A[1,0]*B2[1]\n",
    "T1 = A[0,1]*B2[0] + A[1,1]*B2[1]\n",
    "print('The images of the ordered basis vectors in B1 under the transformation are', T0, T1)\n",
    "\n",
    "eq = a*B1[0]+b*B1[1]\n",
    "\n",
    "c = sp.solve(sp.Matrix([x,y])-eq,[a,b],dict=True)[0]\n",
    "print(\"The co-ordinates of the vector (x,y) w.r.t B1 are\", c)\n",
    "t = T0*c[a] + T1*c[b]\n",
    "print(\"The linear transformation of T is T(x,y) = \", tuple(t))"
   ]
  },
  {
   "cell_type": "code",
   "execution_count": null,
   "id": "0bb542e2",
   "metadata": {},
   "outputs": [],
   "source": []
  }
 ],
 "metadata": {
  "kernelspec": {
   "display_name": "Python 3 (ipykernel)",
   "language": "python",
   "name": "python3"
  },
  "language_info": {
   "codemirror_mode": {
    "name": "ipython",
    "version": 3
   },
   "file_extension": ".py",
   "mimetype": "text/x-python",
   "name": "python",
   "nbconvert_exporter": "python",
   "pygments_lexer": "ipython3",
   "version": "3.11.1"
  }
 },
 "nbformat": 4,
 "nbformat_minor": 5
}
