{
 "cells": [
  {
   "cell_type": "code",
   "execution_count": 20,
   "id": "8a54661c",
   "metadata": {},
   "outputs": [
    {
     "name": "stdout",
     "output_type": "stream",
     "text": [
      "Solve the system of equations:\n"
     ]
    },
    {
     "data": {
      "text/latex": [
       "$\\displaystyle x_{0} - 3 x_{1} - 10 x_{2} = -8$"
      ],
      "text/plain": [
       "Eq(x0 - 3*x1 - 10*x2, -8)"
      ]
     },
     "metadata": {},
     "output_type": "display_data"
    },
    {
     "data": {
      "text/latex": [
       "$\\displaystyle - x_{0} + 7 x_{1} - 7 x_{2} = -7$"
      ],
      "text/plain": [
       "Eq(-x0 + 7*x1 - 7*x2, -7)"
      ]
     },
     "metadata": {},
     "output_type": "display_data"
    },
    {
     "data": {
      "text/latex": [
       "$\\displaystyle - 5 x_{0} - 4 x_{1} + 8 x_{2} = 2$"
      ],
      "text/plain": [
       "Eq(-5*x0 - 4*x1 + 8*x2, 2)"
      ]
     },
     "metadata": {},
     "output_type": "display_data"
    },
    {
     "name": "stdout",
     "output_type": "stream",
     "text": [
      "Solution for verification: {x0: 490/491, x1: 16/491, x2: 437/491}\n"
     ]
    }
   ],
   "source": [
    "from sympy import Matrix, randMatrix, pprint,symbols, Eq, solve\n",
    "def system_of_equations(dim):\n",
    "    x = Matrix(symbols(f'x:{dim}'))\n",
    "    for i in range(100):\n",
    "        A = randMatrix(dim,min=-10,max=10)\n",
    "        b = randMatrix(dim, c=1, min=-10,max=10)\n",
    "        if(A.det().is_rational):\n",
    "            print(\"Solve the system of equations:\")\n",
    "            eqs = [Eq((A*x)[i],b[i]) for i in range(dim)]\n",
    "            for i in eqs:\n",
    "                display(i)\n",
    "            print(\"Solution for verification:\",solve(eqs))\n",
    "            return\n",
    "    print(\"Failed after 100 attempts. Please run again.\")\n",
    "\n",
    "system_of_equations(3)"
   ]
  },
  {
   "cell_type": "code",
   "execution_count": 42,
   "id": "a269b066",
   "metadata": {},
   "outputs": [
    {
     "name": "stdout",
     "output_type": "stream",
     "text": [
      "Question:\n",
      "\n",
      "⎡⎡-6⎤  ⎡-2⎤  ⎡6 ⎤⎤\n",
      "⎢⎢  ⎥  ⎢  ⎥  ⎢  ⎥⎥\n",
      "⎢⎢4 ⎥  ⎢2 ⎥  ⎢-5⎥⎥\n",
      "⎢⎢  ⎥, ⎢  ⎥, ⎢  ⎥⎥\n",
      "⎢⎢-8⎥  ⎢3 ⎥  ⎢-5⎥⎥\n",
      "⎢⎢  ⎥  ⎢  ⎥  ⎢  ⎥⎥\n",
      "⎣⎣-1⎦  ⎣-5⎦  ⎣3 ⎦⎦\n",
      "\n",
      "\n",
      "Solution:\n",
      "{x₀: 0, x₁: 0, x₂: 0}\n",
      "\n",
      "Linearly Independent\n"
     ]
    }
   ],
   "source": [
    "from sympy import Matrix, randMatrix, pprint,symbols, Eq, solve\n",
    "def generate_vector_set():\n",
    "    r = randMatrix(1,c=1, min=2,max=4)[0]\n",
    "    b = randMatrix(1,c=1, min=2,max=4)[0]\n",
    "    S = [randMatrix(r, c=1, min=-10,max=10) for i in range(b)]\n",
    "    print(\"Question:\\n\")\n",
    "    pprint(S)\n",
    "    S_joined = S[0]\n",
    "    print(\"\\n\\nSolution:\")\n",
    "    for i in range(1,b):\n",
    "        S_joined=S_joined.row_join(S[i])\n",
    "    x = Matrix(symbols(f'x:{b}'))\n",
    "    verify = solve(S_joined*x)\n",
    "    pprint(verify)\n",
    "    for i in verify.values():\n",
    "        if i!=0:\n",
    "            print(\"\\nLinearly Dependent\")\n",
    "            return\n",
    "    print(\"\\nLinearly Independent\")\n",
    "\n",
    "generate_vector_set()"
   ]
  },
  {
   "cell_type": "code",
   "execution_count": null,
   "id": "0f84bd8f",
   "metadata": {},
   "outputs": [],
   "source": [
    " "
   ]
  },
  {
   "cell_type": "code",
   "execution_count": null,
   "id": "f79d0398",
   "metadata": {},
   "outputs": [],
   "source": []
  },
  {
   "cell_type": "code",
   "execution_count": null,
   "id": "19993ddf",
   "metadata": {},
   "outputs": [],
   "source": []
  }
 ],
 "metadata": {
  "kernelspec": {
   "display_name": "Python 3 (ipykernel)",
   "language": "python",
   "name": "python3"
  },
  "language_info": {
   "codemirror_mode": {
    "name": "ipython",
    "version": 3
   },
   "file_extension": ".py",
   "mimetype": "text/x-python",
   "name": "python",
   "nbconvert_exporter": "python",
   "pygments_lexer": "ipython3",
   "version": "3.10.10"
  }
 },
 "nbformat": 4,
 "nbformat_minor": 5
}
