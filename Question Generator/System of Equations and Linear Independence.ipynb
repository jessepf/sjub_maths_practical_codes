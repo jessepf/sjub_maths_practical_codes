{
 "cells": [
  {
   "cell_type": "code",
   "execution_count": 78,
   "id": "8a54661c",
   "metadata": {},
   "outputs": [
    {
     "name": "stdout",
     "output_type": "stream",
     "text": [
      "Solve the system of equations:\n"
     ]
    },
    {
     "data": {
      "text/latex": [
       "$\\displaystyle - 9 x_{0} + 3 x_{2} = 7$"
      ],
      "text/plain": [
       "Eq(-9*x0 + 3*x2, 7)"
      ]
     },
     "metadata": {},
     "output_type": "display_data"
    },
    {
     "data": {
      "text/latex": [
       "$\\displaystyle - 9 x_{1} - 9 x_{2} = 2$"
      ],
      "text/plain": [
       "Eq(-9*x1 - 9*x2, 2)"
      ]
     },
     "metadata": {},
     "output_type": "display_data"
    },
    {
     "data": {
      "text/latex": [
       "$\\displaystyle 10 x_{0} - 3 x_{1} - 4 x_{2} = -7$"
      ],
      "text/plain": [
       "Eq(10*x0 - 3*x1 - 4*x2, -7)"
      ]
     },
     "metadata": {},
     "output_type": "display_data"
    },
    {
     "name": "stdout",
     "output_type": "stream",
     "text": [
      "Solution for verification: {x0: -16/21, x1: -17/63, x2: 1/21}\n"
     ]
    }
   ],
   "source": [
    "from sympy import Matrix, randMatrix, pprint,symbols, Eq, solve\n",
    "dim = 3\n",
    "x = Matrix(symbols(f'x:{dim}'))\n",
    "for i in range(100):\n",
    "    A = randMatrix(dim,min=-10,max=10)\n",
    "    b = randMatrix(dim, c=1, min=-10,max=10)\n",
    "    if(A.det().is_rational):\n",
    "        print(\"Solve the system of equations:\")\n",
    "        eqs = [Eq((A*x)[i],b[i]) for i in range(dim)]\n",
    "        for i in eqs:\n",
    "            display(i)\n",
    "        print(\"Solution for verification:\",solve(eqs))\n",
    "        break"
   ]
  },
  {
   "cell_type": "code",
   "execution_count": 366,
   "id": "a269b066",
   "metadata": {},
   "outputs": [
    {
     "name": "stdout",
     "output_type": "stream",
     "text": [
      "{x₀: 0, x₁: 0}\n",
      "⎡⎡-10⎤  ⎡5 ⎤⎤\n",
      "⎢⎢   ⎥  ⎢  ⎥⎥\n",
      "⎢⎢-1 ⎥  ⎢-7⎥⎥\n",
      "⎢⎢   ⎥, ⎢  ⎥⎥\n",
      "⎢⎢ 6 ⎥  ⎢7 ⎥⎥\n",
      "⎢⎢   ⎥  ⎢  ⎥⎥\n",
      "⎣⎣-5 ⎦  ⎣10⎦⎦\n",
      "Linearly Independent\n"
     ]
    }
   ],
   "source": [
    "from sympy import Matrix, randMatrix, pprint,symbols, Eq, solve\n",
    "def generate_vector_set():\n",
    "    r = randMatrix(1,c=1, min=2,max=4)[0]\n",
    "    b = randMatrix(1,c=1, min=2,max=4)[0]\n",
    "    S = [randMatrix(r, c=1, min=-10,max=10) for i in range(b)]\n",
    "    S_joined = S[0]\n",
    "    for i in range(1,b):\n",
    "        S_joined=S_joined.row_join(S[i])\n",
    "    x = Matrix(symbols(f'x:{b}'))\n",
    "    verify = solve(S_joined*x)\n",
    "    pprint(verify)\n",
    "    pprint(S)\n",
    "    for i in verify.values():\n",
    "        if i!=0:\n",
    "            print(\"Linearly Dependent\")\n",
    "            return\n",
    "    print(\"Linearly Independent\")\n",
    "\n",
    "generate_vector_set()"
   ]
  },
  {
   "cell_type": "code",
   "execution_count": null,
   "id": "0f84bd8f",
   "metadata": {},
   "outputs": [],
   "source": []
  },
  {
   "cell_type": "code",
   "execution_count": null,
   "id": "f79d0398",
   "metadata": {},
   "outputs": [],
   "source": []
  },
  {
   "cell_type": "code",
   "execution_count": null,
   "id": "19993ddf",
   "metadata": {},
   "outputs": [],
   "source": []
  }
 ],
 "metadata": {
  "kernelspec": {
   "display_name": "Python 3 (ipykernel)",
   "language": "python",
   "name": "python3"
  },
  "language_info": {
   "codemirror_mode": {
    "name": "ipython",
    "version": 3
   },
   "file_extension": ".py",
   "mimetype": "text/x-python",
   "name": "python",
   "nbconvert_exporter": "python",
   "pygments_lexer": "ipython3",
   "version": "3.11.1"
  }
 },
 "nbformat": 4,
 "nbformat_minor": 5
}
